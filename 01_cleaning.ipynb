{
 "cells": [
  {
   "cell_type": "code",
   "execution_count": 1,
   "id": "b6db2375",
   "metadata": {},
   "outputs": [],
   "source": [
    "import pandas as pd\n",
    "import numpy as np\n",
    "import pickle\n",
    "\n",
    "import matplotlib.pyplot as plt\n",
    "import seaborn as sns\n",
    "\n",
    "%matplotlib inline\n",
    "\n",
    "from sklearn.impute import SimpleImputer\n",
    "from sklearn.compose import ColumnTransformer\n",
    "from sklearn.preprocessing import StandardScaler"
   ]
  },
  {
   "cell_type": "code",
   "execution_count": 2,
   "id": "f230892c",
   "metadata": {},
   "outputs": [
    {
     "name": "stdout",
     "output_type": "stream",
     "text": [
      "<class 'pandas.core.frame.DataFrame'>\n",
      "Int64Index: 301934 entries, 0 to 526552\n",
      "Data columns (total 27 columns):\n",
      " #   Column                   Non-Null Count   Dtype  \n",
      "---  ------                   --------------   -----  \n",
      " 0   CRASH_RECORD_ID          301934 non-null  object \n",
      " 1   CRASH_DATE               301934 non-null  int64  \n",
      " 2   POSTED_SPEED_LIMIT       301934 non-null  int64  \n",
      " 3   TRAFFIC_CONTROL_DEVICE   294593 non-null  object \n",
      " 4   DEVICE_CONDITION         288120 non-null  object \n",
      " 5   WEATHER_CONDITION        295279 non-null  object \n",
      " 6   LIGHTING_CONDITION       298364 non-null  object \n",
      " 7   FIRST_CRASH_TYPE         301934 non-null  object \n",
      " 8   TRAFFICWAY_TYPE          291675 non-null  object \n",
      " 9   ALIGNMENT                301934 non-null  object \n",
      " 10  ROADWAY_SURFACE_COND     289533 non-null  object \n",
      " 11  ROAD_DEFECT              263625 non-null  object \n",
      " 12  CRASH_TYPE               301934 non-null  object \n",
      " 13  INTERSECTION_RELATED_I   85281 non-null   object \n",
      " 14  HIT_AND_RUN_I            68134 non-null   object \n",
      " 15  DAMAGE                   301934 non-null  object \n",
      " 16  PRIM_CONTRIBUTORY_CAUSE  301934 non-null  object \n",
      " 17  WORK_ZONE_I              2309 non-null    object \n",
      " 18  NUM_UNITS                301934 non-null  int64  \n",
      " 19  MOST_SEVERE_INJURY       301668 non-null  object \n",
      " 20  INJURIES_TOTAL           301671 non-null  float64\n",
      " 21  INJURIES_FATAL           301671 non-null  float64\n",
      " 22  CRASH_HOUR               301934 non-null  int64  \n",
      " 23  CRASH_DAY_OF_WEEK        301934 non-null  int64  \n",
      " 24  CRASH_MONTH              301934 non-null  int64  \n",
      " 25  LATITUDE                 300067 non-null  float64\n",
      " 26  LONGITUDE                300067 non-null  float64\n",
      "dtypes: float64(4), int64(6), object(17)\n",
      "memory usage: 64.5+ MB\n"
     ]
    }
   ],
   "source": [
    "with open('data/crashes.pkl', 'rb') as f:\n",
    "    pd.read_pickle(f).info()"
   ]
  },
  {
   "cell_type": "code",
   "execution_count": 3,
   "id": "d08383eb",
   "metadata": {},
   "outputs": [
    {
     "data": {
      "text/plain": [
       "CRASH_RECORD_ID             0.000000\n",
       "POSTED_SPEED_LIMIT          0.000000\n",
       "TRAFFIC_CONTROL_DEVICE      2.431326\n",
       "DEVICE_CONDITION            4.575172\n",
       "WEATHER_CONDITION           2.204124\n",
       "LIGHTING_CONDITION          1.182378\n",
       "FIRST_CRASH_TYPE            0.000000\n",
       "TRAFFICWAY_TYPE             3.397762\n",
       "ALIGNMENT                   0.000000\n",
       "ROADWAY_SURFACE_COND        4.107189\n",
       "ROAD_DEFECT                12.687872\n",
       "CRASH_TYPE                  0.000000\n",
       "INTERSECTION_RELATED_I     71.755086\n",
       "HIT_AND_RUN_I              77.434141\n",
       "DAMAGE                      0.000000\n",
       "PRIM_CONTRIBUTORY_CAUSE     0.000000\n",
       "WORK_ZONE_I                99.235263\n",
       "NUM_UNITS                   0.000000\n",
       "MOST_SEVERE_INJURY          0.088099\n",
       "INJURIES_TOTAL              0.087105\n",
       "INJURIES_FATAL              0.087105\n",
       "CRASH_HOUR                  0.000000\n",
       "CRASH_DAY_OF_WEEK           0.000000\n",
       "CRASH_MONTH                 0.000000\n",
       "LATITUDE                    0.618347\n",
       "LONGITUDE                   0.618347\n",
       "CRASH_YEAR                  0.000000\n",
       "dtype: float64"
      ]
     },
     "execution_count": 3,
     "metadata": {},
     "output_type": "execute_result"
    }
   ],
   "source": [
    "crashes.isnull().mean() * 100"
   ]
  },
  {
   "cell_type": "code",
   "execution_count": 4,
   "id": "afedfd09",
   "metadata": {},
   "outputs": [],
   "source": [
    "bin_fields = ['INTERSECTION_RELATED_I', 'HIT_AND_RUN_I', 'WORK_ZONE_I']\n",
    "cat_fields = ['TRAFFIC_CONTROL_DEVICE', 'WEATHER_CONDITION', 'LIGHTING_CONDITION', 'FIRST_CRASH_TYPE', 'TRAFFICWAY_TYPE', 'ALIGNMENT', 'ROADWAY_SURFACE_COND', 'ROAD_DEFECT', 'CRASH_TYPE', 'DAMAGE', 'MOST_SEVERE_INJURY']\n",
    "num_fields = ['POSTED_SPEED_LIMIT', 'NUM_UNITS', 'INJURIES_TOTAL', 'INJURIES_FATAL']"
   ]
  },
  {
   "cell_type": "code",
   "execution_count": 5,
   "id": "68b5d0a0",
   "metadata": {},
   "outputs": [],
   "source": [
    "bin_imputer = SimpleImputer(strategy='constant', fill_value='N')\n",
    "cat_imputer = SimpleImputer(strategy='most_frequent')\n",
    "num_imputer = SimpleImputer(strategy='most_frequent')"
   ]
  },
  {
   "cell_type": "code",
   "execution_count": 6,
   "id": "e45d89c1",
   "metadata": {},
   "outputs": [],
   "source": [
    "transformer = ColumnTransformer([\n",
    "    ('binary', bin_imputer, bin_fields),\n",
    "    ('categorical', cat_imputer, cat_fields),\n",
    "    ('numeric', num_imputer, num_fields)\n",
    "])"
   ]
  },
  {
   "cell_type": "code",
   "execution_count": null,
   "id": "08aca0dd",
   "metadata": {},
   "outputs": [],
   "source": []
  }
 ],
 "metadata": {
  "kernelspec": {
   "display_name": "Python (learn-env)",
   "language": "python",
   "name": "learn-env"
  },
  "language_info": {
   "codemirror_mode": {
    "name": "ipython",
    "version": 3
   },
   "file_extension": ".py",
   "mimetype": "text/x-python",
   "name": "python",
   "nbconvert_exporter": "python",
   "pygments_lexer": "ipython3",
   "version": "3.8.5"
  }
 },
 "nbformat": 4,
 "nbformat_minor": 5
}
