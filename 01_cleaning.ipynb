{
 "cells": [
  {
   "cell_type": "code",
   "execution_count": 1,
   "id": "995a3a63",
   "metadata": {},
   "outputs": [],
   "source": [
    "import pandas as pd\n",
    "import numpy as np\n",
    "import pickle\n",
    "\n",
    "import matplotlib.pyplot as plt\n",
    "import seaborn as sns\n",
    "import folium\n",
    "%matplotlib inline\n",
    "\n",
    "from sklearn.impute import SimpleImputer\n",
    "from sklearn.compose import ColumnTransformer\n",
    "from sklearn.preprocessing import StandardScaler"
   ]
  },
  {
   "cell_type": "code",
   "execution_count": 2,
   "id": "b3bf3f44",
   "metadata": {},
   "outputs": [
    {
     "name": "stdout",
     "output_type": "stream",
     "text": [
      "<class 'pandas.core.frame.DataFrame'>\n",
      "Int64Index: 301934 entries, 0 to 526552\n",
      "Data columns (total 27 columns):\n",
      " #   Column                   Non-Null Count   Dtype  \n",
      "---  ------                   --------------   -----  \n",
      " 0   CRASH_RECORD_ID          301934 non-null  object \n",
      " 1   CRASH_DATE               301934 non-null  object \n",
      " 2   POSTED_SPEED_LIMIT       301934 non-null  int64  \n",
      " 3   TRAFFIC_CONTROL_DEVICE   294593 non-null  object \n",
      " 4   DEVICE_CONDITION         288120 non-null  object \n",
      " 5   WEATHER_CONDITION        295279 non-null  object \n",
      " 6   LIGHTING_CONDITION       298364 non-null  object \n",
      " 7   FIRST_CRASH_TYPE         301934 non-null  object \n",
      " 8   TRAFFICWAY_TYPE          291675 non-null  object \n",
      " 9   ALIGNMENT                301934 non-null  object \n",
      " 10  ROADWAY_SURFACE_COND     289533 non-null  object \n",
      " 11  ROAD_DEFECT              263625 non-null  object \n",
      " 12  CRASH_TYPE               301934 non-null  object \n",
      " 13  INTERSECTION_RELATED_I   85281 non-null   object \n",
      " 14  HIT_AND_RUN_I            68134 non-null   object \n",
      " 15  DAMAGE                   301934 non-null  object \n",
      " 16  PRIM_CONTRIBUTORY_CAUSE  301934 non-null  object \n",
      " 17  WORK_ZONE_I              2309 non-null    object \n",
      " 18  NUM_UNITS                301934 non-null  int64  \n",
      " 19  MOST_SEVERE_INJURY       301668 non-null  object \n",
      " 20  INJURIES_TOTAL           301671 non-null  float64\n",
      " 21  INJURIES_FATAL           301671 non-null  float64\n",
      " 22  CRASH_HOUR               301934 non-null  int64  \n",
      " 23  CRASH_DAY_OF_WEEK        301934 non-null  int64  \n",
      " 24  CRASH_MONTH              301934 non-null  int64  \n",
      " 25  LATITUDE                 300067 non-null  float64\n",
      " 26  LONGITUDE                300067 non-null  float64\n",
      "dtypes: float64(4), int64(5), object(18)\n",
      "memory usage: 64.5+ MB\n"
     ]
    }
   ],
   "source": [
    "with open('data/crashes.pkl', 'rb') as f:\n",
    "    crashes = pickle.load(f)\n",
    "crashes.info()"
   ]
  },
  {
   "cell_type": "code",
   "execution_count": 3,
   "id": "531e5f3b",
   "metadata": {},
   "outputs": [
    {
     "data": {
      "text/plain": [
       "CRASH_RECORD_ID             0.000000\n",
       "CRASH_DATE                  0.000000\n",
       "POSTED_SPEED_LIMIT          0.000000\n",
       "TRAFFIC_CONTROL_DEVICE      2.431326\n",
       "DEVICE_CONDITION            4.575172\n",
       "WEATHER_CONDITION           2.204124\n",
       "LIGHTING_CONDITION          1.182378\n",
       "FIRST_CRASH_TYPE            0.000000\n",
       "TRAFFICWAY_TYPE             3.397762\n",
       "ALIGNMENT                   0.000000\n",
       "ROADWAY_SURFACE_COND        4.107189\n",
       "ROAD_DEFECT                12.687872\n",
       "CRASH_TYPE                  0.000000\n",
       "INTERSECTION_RELATED_I     71.755086\n",
       "HIT_AND_RUN_I              77.434141\n",
       "DAMAGE                      0.000000\n",
       "PRIM_CONTRIBUTORY_CAUSE     0.000000\n",
       "WORK_ZONE_I                99.235263\n",
       "NUM_UNITS                   0.000000\n",
       "MOST_SEVERE_INJURY          0.088099\n",
       "INJURIES_TOTAL              0.087105\n",
       "INJURIES_FATAL              0.087105\n",
       "CRASH_HOUR                  0.000000\n",
       "CRASH_DAY_OF_WEEK           0.000000\n",
       "CRASH_MONTH                 0.000000\n",
       "LATITUDE                    0.618347\n",
       "LONGITUDE                   0.618347\n",
       "dtype: float64"
      ]
     },
     "execution_count": 3,
     "metadata": {},
     "output_type": "execute_result"
    }
   ],
   "source": [
    "crashes.isnull().mean() * 100"
   ]
  },
  {
   "cell_type": "code",
   "execution_count": 5,
   "id": "514c2d3a",
   "metadata": {},
   "outputs": [],
   "source": [
    "bin_fields = ['INTERSECTION_RELATED_I', 'HIT_AND_RUN_I', 'WORK_ZONE_I']\n",
    "cat_fields = ['TRAFFIC_CONTROL_DEVICE', 'WEATHER_CONDITION', 'LIGHTING_CONDITION', 'FIRST_CRASH_TYPE', 'TRAFFICWAY_TYPE', 'ALIGNMENT', 'ROADWAY_SURFACE_COND', 'ROAD_DEFECT', 'CRASH_TYPE', 'DAMAGE', 'MOST_SEVERE_INJURY']\n",
    "num_fields = ['POSTED_SPEED_LIMIT', 'NUM_UNITS', 'INJURIES_TOTAL', 'INJURIES_FATAL']"
   ]
  },
  {
   "cell_type": "code",
   "execution_count": 6,
   "id": "1bb03b6f",
   "metadata": {},
   "outputs": [],
   "source": [
    "bin_imputer = SimpleImputer(strategy='constant', fill_value='N')\n",
    "cat_imputer = SimpleImputer(strategy='most_frequent')\n",
    "num_imputer = SimpleImputer(strategy='most_frequent')"
   ]
  },
  {
   "cell_type": "code",
   "execution_count": 7,
   "id": "7dcba1fb",
   "metadata": {},
   "outputs": [],
   "source": [
    "transformer = ColumnTransformer([\n",
    "    ('binary', bin_imputer, bin_fields),\n",
    "    ('categorical', cat_imputer, cat_fields),\n",
    "    ('numeric', num_imputer, num_fields)\n",
    "])"
   ]
  },
  {
   "cell_type": "code",
   "execution_count": 8,
   "id": "39eaf869",
   "metadata": {},
   "outputs": [
    {
     "data": {
      "text/plain": [
       "array([['N', 'N', 'N', ..., 2.0, 0.0, 0.0],\n",
       "       ['Y', 'N', 'N', ..., 2.0, 0.0, 0.0],\n",
       "       ['N', 'N', 'N', ..., 3.0, 0.0, 0.0],\n",
       "       ...,\n",
       "       ['N', 'N', 'N', ..., 2.0, 3.0, 0.0],\n",
       "       ['Y', 'N', 'N', ..., 2.0, 0.0, 0.0],\n",
       "       ['N', 'Y', 'N', ..., 3.0, 0.0, 0.0]], dtype=object)"
      ]
     },
     "execution_count": 8,
     "metadata": {},
     "output_type": "execute_result"
    }
   ],
   "source": [
    "transformer.fit_transform(crashes)"
   ]
  },
  {
   "cell_type": "code",
   "execution_count": 11,
   "id": "eb86f578",
   "metadata": {},
   "outputs": [
    {
     "data": {
      "text/plain": [
       "0     0.0\n",
       "1     0.0\n",
       "2     0.0\n",
       "3     0.0\n",
       "4     0.0\n",
       "5     0.0\n",
       "6     0.0\n",
       "7     0.0\n",
       "8     0.0\n",
       "9     0.0\n",
       "10    0.0\n",
       "11    0.0\n",
       "12    0.0\n",
       "13    0.0\n",
       "14    0.0\n",
       "15    0.0\n",
       "16    0.0\n",
       "17    0.0\n",
       "dtype: float64"
      ]
     },
     "execution_count": 11,
     "metadata": {},
     "output_type": "execute_result"
    }
   ],
   "source": [
    "pd.DataFrame(Out[8]).isnull().mean()"
   ]
  },
  {
   "cell_type": "code",
   "execution_count": 12,
   "id": "0628c6d6",
   "metadata": {},
   "outputs": [],
   "source": [
    "def prim_contributory_cause(val):\n",
    "    if val in driving:\n",
    "        return 'driving'\n",
    "    elif val in environment:\n",
    "        return 'environment'\n",
    "    elif val in disregarding_signs:\n",
    "        return 'disregarding_signs'\n",
    "    else:\n",
    "        return np.NaN"
   ]
  },
  {
   "cell_type": "code",
   "execution_count": 13,
   "id": "9f42e10d",
   "metadata": {},
   "outputs": [],
   "source": [
    "converters = {\n",
    "    'PRIM_CONTRIBUTORY_CAUSE': prim_contributory_cause\n",
    "}"
   ]
  },
  {
   "cell_type": "code",
   "execution_count": 15,
   "id": "981ed130",
   "metadata": {},
   "outputs": [
    {
     "name": "stdout",
     "output_type": "stream",
     "text": [
      "<class 'pandas.core.frame.DataFrame'>\n",
      "Int64Index: 300400 entries, 0 to 526552\n",
      "Data columns (total 28 columns):\n",
      " #   Column                   Non-Null Count   Dtype  \n",
      "---  ------                   --------------   -----  \n",
      " 0   CRASH_RECORD_ID          300400 non-null  object \n",
      " 1   CRASH_DATE               300400 non-null  object \n",
      " 2   POSTED_SPEED_LIMIT       300400 non-null  int64  \n",
      " 3   TRAFFIC_CONTROL_DEVICE   293146 non-null  object \n",
      " 4   DEVICE_CONDITION         286686 non-null  object \n",
      " 5   WEATHER_CONDITION        293806 non-null  object \n",
      " 6   LIGHTING_CONDITION       296856 non-null  object \n",
      " 7   FIRST_CRASH_TYPE         300400 non-null  object \n",
      " 8   TRAFFICWAY_TYPE          290205 non-null  object \n",
      " 9   LANE_CNT                 121671 non-null  float64\n",
      " 10  ALIGNMENT                300400 non-null  object \n",
      " 11  ROADWAY_SURFACE_COND     288156 non-null  object \n",
      " 12  ROAD_DEFECT              262479 non-null  object \n",
      " 13  CRASH_TYPE               300400 non-null  object \n",
      " 14  INTERSECTION_RELATED_I   85035 non-null   object \n",
      " 15  HIT_AND_RUN_I            67993 non-null   object \n",
      " 16  DAMAGE                   300400 non-null  object \n",
      " 17  PRIM_CONTRIBUTORY_CAUSE  300400 non-null  object \n",
      " 18  WORK_ZONE_I              1889 non-null    object \n",
      " 19  NUM_UNITS                300400 non-null  int64  \n",
      " 20  MOST_SEVERE_INJURY       300137 non-null  object \n",
      " 21  INJURIES_TOTAL           300140 non-null  float64\n",
      " 22  INJURIES_FATAL           300140 non-null  float64\n",
      " 23  CRASH_HOUR               300400 non-null  int64  \n",
      " 24  CRASH_DAY_OF_WEEK        300400 non-null  int64  \n",
      " 25  CRASH_MONTH              300400 non-null  int64  \n",
      " 26  LATITUDE                 298537 non-null  float64\n",
      " 27  LONGITUDE                298537 non-null  float64\n",
      "dtypes: float64(5), int64(5), object(18)\n",
      "memory usage: 66.5+ MB\n"
     ]
    }
   ],
   "source": [
    "crashes = pd.read_csv('data/chicago_crashes.csv',\n",
    "                      na_values=na_values,\n",
    "                      infer_datetime_format=True,\n",
    "                      converters=converters,\n",
    "                      true_values=['Y'],\n",
    "                      false_values=['N']\n",
    ").drop(columns=CRASHES_DROP)\n",
    "\n",
    "crashes_no_cause = crashes.loc[crashes['PRIM_CONTRIBUTORY_CAUSE'].isna(), :]\n",
    "\n",
    "crashes.dropna(subset=['PRIM_CONTRIBUTORY_CAUSE'], axis=0, inplace=True)\n",
    "# crashes.dropna(axis=1, how='any', thresh=0.05 * chi_crashes.shape[0], inplace=True)\n",
    "crashes.info()"
   ]
  },
  {
   "cell_type": "code",
   "execution_count": 16,
   "id": "3ccff2c2",
   "metadata": {},
   "outputs": [
    {
     "data": {
      "text/plain": [
       "driving               262312\n",
       "environment            20345\n",
       "disregarding_signs     17743\n",
       "Name: PRIM_CONTRIBUTORY_CAUSE, dtype: int64"
      ]
     },
     "execution_count": 16,
     "metadata": {},
     "output_type": "execute_result"
    }
   ],
   "source": [
    "crashes.PRIM_CONTRIBUTORY_CAUSE.value_counts(dropna=False)"
   ]
  },
  {
   "cell_type": "code",
   "execution_count": null,
   "id": "b124737a",
   "metadata": {},
   "outputs": [],
   "source": []
  }
 ],
 "metadata": {
  "kernelspec": {
   "display_name": "Python (learn-env)",
   "language": "python",
   "name": "learn-env"
  },
  "language_info": {
   "codemirror_mode": {
    "name": "ipython",
    "version": 3
   },
   "file_extension": ".py",
   "mimetype": "text/x-python",
   "name": "python",
   "nbconvert_exporter": "python",
   "pygments_lexer": "ipython3",
   "version": "3.8.5"
  }
 },
 "nbformat": 4,
 "nbformat_minor": 5
}
