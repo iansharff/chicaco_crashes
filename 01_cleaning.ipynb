{
 "cells": [
  {
   "cell_type": "markdown",
   "id": "581d7c73",
   "metadata": {},
   "source": [
    "# __Data Cleaning and Preparation__\n",
    "\n",
    "### Phase 3 Project - Chicago Traffic Crash Classification\n",
    "\n",
    "#### Author: Ian Sharff"
   ]
  },
  {
   "cell_type": "code",
   "execution_count": 1,
   "id": "091ffec7",
   "metadata": {},
   "outputs": [],
   "source": [
    "import pandas as pd\n",
    "import numpy as np\n",
    "import pickle\n",
    "\n",
    "import matplotlib.pyplot as plt\n",
    "import seaborn as sns\n",
    "\n",
    "%matplotlib inline"
   ]
  },
  {
   "cell_type": "code",
   "execution_count": 2,
   "id": "feadb488",
   "metadata": {},
   "outputs": [],
   "source": [
    "BIN_FIELDS = ['INTERSECTION_RELATED_I',\n",
    "              'HIT_AND_RUN_I',\n",
    "              'WORK_ZONE_I']\n",
    "CAT_FIELDS = ['TRAFFIC_CONTROL_DEVICE',\n",
    "              'DEVICE_CONDITION',\n",
    "              'WEATHER_CONDITION',\n",
    "              'LIGHTING_CONDITION',\n",
    "              'FIRST_CRASH_TYPE',\n",
    "              'TRAFFICWAY_TYPE',\n",
    "              'ALIGNMENT',\n",
    "              'ROADWAY_SURFACE_COND',\n",
    "              'ROAD_DEFECT',\n",
    "              'CRASH_TYPE',\n",
    "              'DAMAGE',\n",
    "              'MOST_SEVERE_INJURY',\n",
    "              'CRASH_HOUR',\n",
    "              'CRASH_DAY_OF_WEEK',\n",
    "              'CRASH_MONTH',\n",
    "              'CRASH_YEAR']\n",
    "NUM_FIELDS = ['POSTED_SPEED_LIMIT',\n",
    "              'NUM_UNITS',\n",
    "              'INJURIES_TOTAL',\n",
    "              'INJURIES_FATAL',]"
   ]
  },
  {
   "cell_type": "code",
   "execution_count": 3,
   "id": "1e99eca3",
   "metadata": {},
   "outputs": [],
   "source": [
    "crashes = pd.read_pickle('data/raw/crashes.pkl')"
   ]
  },
  {
   "cell_type": "code",
   "execution_count": 4,
   "id": "19711cc3",
   "metadata": {},
   "outputs": [],
   "source": [
    "cleaned = crashes.copy()"
   ]
  },
  {
   "cell_type": "code",
   "execution_count": 5,
   "id": "42e91daf",
   "metadata": {},
   "outputs": [
    {
     "data": {
      "text/plain": [
       "NO CONTROLS                 154056\n",
       "TRAFFIC SIGNAL               99534\n",
       "STOP SIGN/FLASHER            35976\n",
       "NaN                           7259\n",
       "LANE USE MARKING               916\n",
       "YIELD                          543\n",
       "OTHER REG. SIGN                398\n",
       "OTHER WARNING SIGN             368\n",
       "RAILROAD CROSSING GATE         230\n",
       "PEDESTRIAN CROSSING SIGN       177\n",
       "POLICE/FLAGMAN                 144\n",
       "SCHOOL ZONE                    112\n",
       "DELINEATORS                    110\n",
       "FLASHING CONTROL SIGNAL         98\n",
       "OTHER RAILROAD CROSSING         88\n",
       "RR CROSSING SIGN                25\n",
       "NO PASSING                      22\n",
       "BICYCLE CROSSING SIGN           11\n",
       "Name: TRAFFIC_CONTROL_DEVICE, dtype: int64"
      ]
     },
     "execution_count": 5,
     "metadata": {},
     "output_type": "execute_result"
    }
   ],
   "source": [
    "cleaned['TRAFFIC_CONTROL_DEVICE'].value_counts(dropna=False)"
   ]
  },
  {
   "cell_type": "code",
   "execution_count": 6,
   "id": "e45d03bd",
   "metadata": {},
   "outputs": [],
   "source": [
    "cleaned['TRAFFIC_CONTROL_DEVICE'] = cleaned['TRAFFIC_CONTROL_DEVICE'].map(lambda x: 0 if x=='NO CONTROLS' else 1, na_action='ignore')"
   ]
  },
  {
   "cell_type": "code",
   "execution_count": 7,
   "id": "97752e55",
   "metadata": {},
   "outputs": [
    {
     "data": {
      "text/plain": [
       "0.0    154056\n",
       "1.0    138752\n",
       "NaN      7259\n",
       "Name: TRAFFIC_CONTROL_DEVICE, dtype: int64"
      ]
     },
     "execution_count": 7,
     "metadata": {},
     "output_type": "execute_result"
    }
   ],
   "source": [
    "cleaned['TRAFFIC_CONTROL_DEVICE'].value_counts(dropna=False)"
   ]
  },
  {
   "cell_type": "code",
   "execution_count": 8,
   "id": "9f6911fb",
   "metadata": {},
   "outputs": [
    {
     "data": {
      "text/plain": [
       "NO CONTROLS                 157056\n",
       "FUNCTIONING PROPERLY        126170\n",
       "NaN                          13741\n",
       "FUNCTIONING IMPROPERLY        1863\n",
       "NOT FUNCTIONING               1026\n",
       "WORN REFLECTIVE MATERIAL       165\n",
       "MISSING                         46\n",
       "Name: DEVICE_CONDITION, dtype: int64"
      ]
     },
     "execution_count": 8,
     "metadata": {},
     "output_type": "execute_result"
    }
   ],
   "source": [
    "cleaned['DEVICE_CONDITION'].value_counts(dropna=False)"
   ]
  },
  {
   "cell_type": "code",
   "execution_count": 9,
   "id": "71bcf150",
   "metadata": {},
   "outputs": [],
   "source": [
    "cleaned['DEVICE_CONDITION'] = cleaned['DEVICE_CONDITION'].map(\n",
    "    lambda x: 0 if x in ['FUNCTIONING IMPROPERLY', 'NOT FUNCTIONING', 'MISSING'] else 1,\n",
    "    na_action='ignore'\n",
    ")"
   ]
  },
  {
   "cell_type": "code",
   "execution_count": 10,
   "id": "812cbc63",
   "metadata": {},
   "outputs": [
    {
     "data": {
      "text/plain": [
       "1.0    283391\n",
       "NaN     13741\n",
       "0.0      2935\n",
       "Name: DEVICE_CONDITION, dtype: int64"
      ]
     },
     "execution_count": 10,
     "metadata": {},
     "output_type": "execute_result"
    }
   ],
   "source": [
    "cleaned['DEVICE_CONDITION'].value_counts(dropna=False)"
   ]
  },
  {
   "cell_type": "code",
   "execution_count": 11,
   "id": "aa525678",
   "metadata": {},
   "outputs": [
    {
     "data": {
      "text/plain": [
       "CLEAR                       240146\n",
       "RAIN                         28882\n",
       "SNOW                         12746\n",
       "CLOUDY/OVERCAST              10098\n",
       "NaN                           6633\n",
       "FOG/SMOKE/HAZE                 532\n",
       "SLEET/HAIL                     477\n",
       "FREEZING RAIN/DRIZZLE          374\n",
       "BLOWING SNOW                   104\n",
       "SEVERE CROSS WIND GATE          74\n",
       "BLOWING SAND, SOIL, DIRT         1\n",
       "Name: WEATHER_CONDITION, dtype: int64"
      ]
     },
     "execution_count": 11,
     "metadata": {},
     "output_type": "execute_result"
    }
   ],
   "source": [
    "cleaned['WEATHER_CONDITION'].value_counts(dropna=False)"
   ]
  },
  {
   "cell_type": "code",
   "execution_count": 12,
   "id": "4ddc5a39",
   "metadata": {},
   "outputs": [],
   "source": [
    "cleaned['WEATHER_CONDITION'] = cleaned['WEATHER_CONDITION'].map(\n",
    "    lambda x: 0 if x in ['CLEAR', 'CLOUDY/OVERCAST'] else 1, \n",
    "    na_action = 'ignore'\n",
    ")"
   ]
  },
  {
   "cell_type": "code",
   "execution_count": 13,
   "id": "89954a8a",
   "metadata": {},
   "outputs": [
    {
     "data": {
      "text/plain": [
       "0.0    250244\n",
       "1.0     43190\n",
       "NaN      6633\n",
       "Name: WEATHER_CONDITION, dtype: int64"
      ]
     },
     "execution_count": 13,
     "metadata": {},
     "output_type": "execute_result"
    }
   ],
   "source": [
    "cleaned['WEATHER_CONDITION'].value_counts(dropna=False)"
   ]
  },
  {
   "cell_type": "code",
   "execution_count": 14,
   "id": "b3e66682",
   "metadata": {},
   "outputs": [
    {
     "data": {
      "text/plain": [
       "DAYLIGHT                  201106\n",
       "DARKNESS, LIGHTED ROAD     67523\n",
       "DARKNESS                   13401\n",
       "DUSK                        9404\n",
       "DAWN                        5078\n",
       "NaN                         3555\n",
       "Name: LIGHTING_CONDITION, dtype: int64"
      ]
     },
     "execution_count": 14,
     "metadata": {},
     "output_type": "execute_result"
    }
   ],
   "source": [
    "cleaned['LIGHTING_CONDITION'].value_counts(dropna=False)"
   ]
  },
  {
   "cell_type": "code",
   "execution_count": 16,
   "id": "d795846e",
   "metadata": {},
   "outputs": [],
   "source": [
    "with open('data/cleaned/crashes_cleaned.pkl', 'wb') as f:\n",
    "    pickle.dump(cleaned, f)"
   ]
  },
  {
   "cell_type": "code",
   "execution_count": null,
   "id": "bfd7f8ce",
   "metadata": {},
   "outputs": [],
   "source": []
  }
 ],
 "metadata": {
  "kernelspec": {
   "display_name": "Python (learn-env)",
   "language": "python",
   "name": "learn-env"
  },
  "language_info": {
   "codemirror_mode": {
    "name": "ipython",
    "version": 3
   },
   "file_extension": ".py",
   "mimetype": "text/x-python",
   "name": "python",
   "nbconvert_exporter": "python",
   "pygments_lexer": "ipython3",
   "version": "3.8.5"
  }
 },
 "nbformat": 4,
 "nbformat_minor": 5
}
