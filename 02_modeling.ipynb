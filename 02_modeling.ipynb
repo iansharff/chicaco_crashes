{
 "cells": [
  {
   "cell_type": "markdown",
   "id": "610682ad",
   "metadata": {},
   "source": [
    "# __Model Building and Evaluation__\n",
    "\n",
    "### Phase 3 Project - Chicago Traffic Crash Classification\n",
    "\n",
    "#### Author: Ian Sharff"
   ]
  },
  {
   "cell_type": "markdown",
   "id": "7d89f5c6",
   "metadata": {},
   "source": [
    "> This Notebook will most likely take up to two hours to load. This module fits each model and adds the result to `fitted_models/` as a PKL file to be used in the main notebook, `chicago_crashes.ipnyb`."
   ]
  },
  {
   "cell_type": "code",
   "execution_count": null,
   "id": "e566b30f",
   "metadata": {},
   "outputs": [],
   "source": [
    "# Data manipulation and storage\n",
    "import pandas as pd\n",
    "import numpy as np\n",
    "import pickle\n",
    "import os\n",
    "\n",
    "# Visualizations\n",
    "import matplotlib.pyplot as plt\n",
    "import seaborn as sns\n",
    "%matplotlib inline\n",
    "plt.style.use('images/presentation.mplstyle')\n",
    "\n",
    "# Preprocessing and Pipelines\n",
    "from sklearn.preprocessing import FunctionTransformer, OneHotEncoder, LabelEncoder\n",
    "from sklearn.impute import SimpleImputer\n",
    "from sklearn.compose import ColumnTransformer\n",
    "from sklearn.pipeline import Pipeline, make_union\n",
    "\n",
    "# Models using SMOTE\n",
    "from imblearn.over_sampling import SMOTE\n",
    "from imblearn.pipeline import Pipeline as ImbPipeline\n",
    "\n",
    "# Models employed\n",
    "from sklearn.dummy import DummyClassifier\n",
    "from sklearn.tree import DecisionTreeClassifier\n",
    "from sklearn.ensemble import GradientBoostingClassifier\n",
    "\n",
    "# Model validation and \n",
    "from sklearn.model_selection import train_test_split, cross_val_score\n",
    "from sklearn.metrics import classification_report, confusion_matrix\n",
    "\n",
    "# Custom model evaluation and fitting classes\n",
    "from models import ModelEvaluator, TrainTestSplit"
   ]
  },
  {
   "cell_type": "code",
   "execution_count": null,
   "id": "c9527fe0",
   "metadata": {},
   "outputs": [],
   "source": [
    "# Can be altered to add/remove features\n",
    "BIN_FIELDS = ['INTERSECTION_RELATED_I',\n",
    "              'HIT_AND_RUN_I',\n",
    "              'WORK_ZONE_I']\n",
    "CAT_FIELDS = ['TRAFFIC_CONTROL_DEVICE',\n",
    "              'DEVICE_CONDITION',\n",
    "              'WEATHER_CONDITION',\n",
    "              'LIGHTING_CONDITION',\n",
    "              'FIRST_CRASH_TYPE',\n",
    "              'TRAFFICWAY_TYPE',\n",
    "              'ALIGNMENT',\n",
    "              'ROADWAY_SURFACE_COND',\n",
    "              'ROAD_DEFECT',\n",
    "              'CRASH_TYPE',\n",
    "              'DAMAGE',\n",
    "              'MOST_SEVERE_INJURY',\n",
    "              'CRASH_HOUR',\n",
    "              'CRASH_DAY_OF_WEEK',\n",
    "              'CRASH_MONTH',\n",
    "              'CRASH_YEAR']\n",
    "NUM_FIELDS = ['POSTED_SPEED_LIMIT',\n",
    "              'NUM_UNITS',\n",
    "              'INJURIES_TOTAL',\n",
    "              'INJURIES_FATAL',]\n",
    "\n",
    "with open('data/binned_causes.pkl', 'rb') as f:\n",
    "    BINNED_CAUSES = pickle.load(f)\n"
   ]
  },
  {
   "cell_type": "code",
   "execution_count": null,
   "id": "b0776a2a",
   "metadata": {},
   "outputs": [],
   "source": [
    "crashes = pd.read_pickle('data/crashes.pkl')\n",
    "crashes.info()"
   ]
  },
  {
   "cell_type": "code",
   "execution_count": null,
   "id": "2c847e4a",
   "metadata": {},
   "outputs": [],
   "source": [
    "X = crashes.drop('PRIM_CONTRIBUTORY_CAUSE', axis=1)\n",
    "y = crashes['PRIM_CONTRIBUTORY_CAUSE'].map(BINNED_CAUSES)\n",
    "\n",
    "splits = TrainTestSplit(X, y)"
   ]
  },
  {
   "cell_type": "code",
   "execution_count": null,
   "id": "6e5e1762",
   "metadata": {},
   "outputs": [],
   "source": [
    "print(splits.y_train.value_counts(normalize=True))\n",
    "print()\n",
    "print(splits.y_test.value_counts(normalize=True))"
   ]
  },
  {
   "cell_type": "code",
   "execution_count": null,
   "id": "fbcadace",
   "metadata": {},
   "outputs": [],
   "source": [
    "dummy = ModelEvaluator(\n",
    "    splits,\n",
    "    DummyClassifier(strategy='stratified'),\n",
    "    'Dummy Classifier'\n",
    ")\n",
    "\n",
    "dummy.run_model()"
   ]
  },
  {
   "cell_type": "code",
   "execution_count": null,
   "id": "fb87e627",
   "metadata": {},
   "outputs": [],
   "source": [
    "dummy.train_test_classification_reports()"
   ]
  },
  {
   "cell_type": "code",
   "execution_count": null,
   "id": "d698aaab",
   "metadata": {},
   "outputs": [],
   "source": [
    "dummy.confusion_matrices()"
   ]
  },
  {
   "cell_type": "code",
   "execution_count": null,
   "id": "9d0bd724",
   "metadata": {},
   "outputs": [],
   "source": [
    "dummy.pickle_fitted_model('fitted_models/dummy_classifier.pkl')"
   ]
  },
  {
   "cell_type": "markdown",
   "id": "ce71e931",
   "metadata": {},
   "source": [
    "## Decision Tree Classifier"
   ]
  },
  {
   "cell_type": "code",
   "execution_count": null,
   "id": "25491c81",
   "metadata": {},
   "outputs": [],
   "source": [
    "bin_imputer = SimpleImputer(strategy='constant', fill_value=False)\n",
    "cat_imputer = SimpleImputer(strategy='most_frequent')\n",
    "num_imputer = SimpleImputer(strategy='most_frequent')\n",
    "\n",
    "ohe = OneHotEncoder(handle_unknown='ignore')\n",
    "\n",
    "imputers = ColumnTransformer([\n",
    "    ('binary', bin_imputer, BIN_FIELDS),\n",
    "    ('categorical', cat_imputer, CAT_FIELDS),\n",
    "    ('numeric', num_imputer, NUM_FIELDS)\n",
    "])\n",
    "\n",
    "decisiontree_model = DecisionTreeClassifier(\n",
    "    max_depth=4,\n",
    ")\n",
    "\n",
    "decision_tree_pipeline = Pipeline([\n",
    "    ('imputers', imputers),\n",
    "    ('ohe', ohe),\n",
    "    ('model', decisiontree_model)\n",
    "])"
   ]
  },
  {
   "cell_type": "code",
   "execution_count": null,
   "id": "447180e2",
   "metadata": {},
   "outputs": [],
   "source": [
    "decision_tree = ModelEvaluator(\n",
    "    splits,\n",
    "    decision_tree_pipeline,\n",
    "    'Simple Decision Tree'\n",
    ")"
   ]
  },
  {
   "cell_type": "code",
   "execution_count": null,
   "id": "65149c22",
   "metadata": {},
   "outputs": [],
   "source": [
    "decision_tree.run_model()"
   ]
  },
  {
   "cell_type": "code",
   "execution_count": null,
   "id": "66dbd707",
   "metadata": {},
   "outputs": [],
   "source": [
    "decision_tree.train_test_classification_reports()"
   ]
  },
  {
   "cell_type": "code",
   "execution_count": null,
   "id": "3ac0850b",
   "metadata": {},
   "outputs": [],
   "source": [
    "decision_tree.confusion_matrices()"
   ]
  },
  {
   "cell_type": "code",
   "execution_count": null,
   "id": "8de283a2",
   "metadata": {},
   "outputs": [],
   "source": [
    "decision_tree.pickle_fitted_model('fitted_models/decisiontree_simple.pkl')"
   ]
  },
  {
   "cell_type": "code",
   "execution_count": null,
   "id": "f7a9115a",
   "metadata": {},
   "outputs": [],
   "source": [
    "with open('fitted_models/decisiontree_simple.pkl', 'rb') as f:\n",
    "    decision_tree_fitted = pickle.load(f)"
   ]
  },
  {
   "cell_type": "code",
   "execution_count": null,
   "id": "b8c6d149",
   "metadata": {},
   "outputs": [],
   "source": [
    "print(decision_tree_fitted)"
   ]
  },
  {
   "cell_type": "markdown",
   "id": "f40a59b8",
   "metadata": {},
   "source": [
    "## Simple Decision Tree Classifier with SMOTE"
   ]
  },
  {
   "cell_type": "code",
   "execution_count": null,
   "id": "e8d30563",
   "metadata": {},
   "outputs": [],
   "source": [
    "smote = SMOTE()\n",
    "\n",
    "smote_pipeline = ImbPipeline(steps=[\n",
    "    ('imputers', imputers),\n",
    "    ('encoder', ohe),\n",
    "    ('smote', smote),\n",
    "    ('model', decisiontree_model)\n",
    "])"
   ]
  },
  {
   "cell_type": "code",
   "execution_count": null,
   "id": "75434888",
   "metadata": {},
   "outputs": [],
   "source": [
    "decision_tree_smote = ModelEvaluator(\n",
    "    splits,\n",
    "    smote_pipeline,\n",
    "    'SMOTE Decision Tree'\n",
    ")"
   ]
  },
  {
   "cell_type": "code",
   "execution_count": null,
   "id": "e697aa64",
   "metadata": {},
   "outputs": [],
   "source": [
    "decision_tree_smote.run_model()"
   ]
  },
  {
   "cell_type": "code",
   "execution_count": null,
   "id": "05e19389",
   "metadata": {},
   "outputs": [],
   "source": [
    "decision_tree_smote.train_test_classification_reports()"
   ]
  },
  {
   "cell_type": "code",
   "execution_count": null,
   "id": "26609284",
   "metadata": {},
   "outputs": [],
   "source": [
    "decision_tree_smote.confusion_matrices()"
   ]
  },
  {
   "cell_type": "code",
   "execution_count": null,
   "id": "623d1210",
   "metadata": {},
   "outputs": [],
   "source": [
    "decision_tree_smote.pickle_fitted_model('fitted_models/decisiontree_smote.pkl')"
   ]
  },
  {
   "cell_type": "markdown",
   "id": "e7fb2461",
   "metadata": {},
   "source": [
    "## Gradient Boosting Classifier"
   ]
  },
  {
   "cell_type": "code",
   "execution_count": null,
   "id": "cc729f17",
   "metadata": {},
   "outputs": [],
   "source": [
    "smote = SMOTE()\n",
    "\n",
    "gboost_model = GradientBoostingClassifier(\n",
    "    learning_rate=0.3,\n",
    "    n_estimators=100\n",
    ")\n",
    "\n",
    "\n",
    "gradient_boost_pipeline = ImbPipeline([\n",
    "    ('imputers', imputers),\n",
    "    ('encoder', ohe),\n",
    "    ('smote', smote),\n",
    "    ('model', gboost_model)\n",
    "])"
   ]
  },
  {
   "cell_type": "code",
   "execution_count": null,
   "id": "eeebd934",
   "metadata": {},
   "outputs": [],
   "source": [
    "gradient_boost = ModelEvaluator(\n",
    "    splits,\n",
    "    gradient_boost_pipeline,\n",
    "    \"Gradient Boosting with SMOTE\"\n",
    ")"
   ]
  },
  {
   "cell_type": "code",
   "execution_count": null,
   "id": "f2ff1881",
   "metadata": {},
   "outputs": [],
   "source": [
    "gradient_boost.run_model()"
   ]
  },
  {
   "cell_type": "code",
   "execution_count": null,
   "id": "0fbdd7ff",
   "metadata": {},
   "outputs": [],
   "source": [
    "gradient_boost.train_test_classification_reports()"
   ]
  },
  {
   "cell_type": "code",
   "execution_count": null,
   "id": "58f8ff4f",
   "metadata": {},
   "outputs": [],
   "source": [
    "gradient_boost.confusion_matrices()"
   ]
  },
  {
   "cell_type": "code",
   "execution_count": null,
   "id": "54263b34",
   "metadata": {},
   "outputs": [],
   "source": [
    "gradient_boost.pickle_fitted_model('fitted_models/gradient_boost_smote.pkl')"
   ]
  },
  {
   "cell_type": "code",
   "execution_count": null,
   "id": "87e80e98",
   "metadata": {},
   "outputs": [],
   "source": [
    "# Get most important features\n",
    "gboost_steps = gradient_boost._fitted_model.named_steps\n",
    "\n",
    "feat_importances = gboost_steps['model'].feature_importances_\n",
    "feat_names = gboost_steps['encoder'].get_feature_names(BIN_FIELDS + CAT_FIELDS + NUM_FIELDS)\n",
    "\n",
    "pd.Series(feat_importances, index=feat_names).sort_values(ascending=False).head(5)"
   ]
  }
 ],
 "metadata": {
  "kernelspec": {
   "display_name": "Python (learn-env)",
   "language": "python",
   "name": "learn-env"
  },
  "language_info": {
   "codemirror_mode": {
    "name": "ipython",
    "version": 3
   },
   "file_extension": ".py",
   "mimetype": "text/x-python",
   "name": "python",
   "nbconvert_exporter": "python",
   "pygments_lexer": "ipython3",
   "version": "3.8.5"
  }
 },
 "nbformat": 4,
 "nbformat_minor": 5
}
