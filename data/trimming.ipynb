{
 "cells": [
  {
   "cell_type": "code",
   "execution_count": 1,
   "id": "8ed72dbe",
   "metadata": {},
   "outputs": [],
   "source": [
    "import pandas as pd\n",
    "import numpy as np\n",
    "import pickle"
   ]
  },
  {
   "cell_type": "code",
   "execution_count": 2,
   "id": "42d4d5f4",
   "metadata": {},
   "outputs": [],
   "source": [
    "CRASHES_DROP = [\n",
    "    'RD_NO',\n",
    "    'CRASH_DATE_EST_I',\n",
    "    'LANE_CNT',\n",
    "    'REPORT_TYPE',\n",
    "    'NOT_RIGHT_OF_WAY_I',\n",
    "    'DATE_POLICE_NOTIFIED',\n",
    "    'SEC_CONTRIBUTORY_CAUSE',\n",
    "    'STREET_NO',\n",
    "    'STREET_DIRECTION',\n",
    "    'STREET_NAME',\n",
    "    'BEAT_OF_OCCURRENCE',\n",
    "    'PHOTOS_TAKEN_I',\n",
    "    'STATEMENTS_TAKEN_I',\n",
    "    'DOORING_I',\n",
    "    'WORK_ZONE_TYPE',\n",
    "    'WORKERS_PRESENT_I',\n",
    "    'INJURIES_UNKNOWN',\n",
    "    'INJURIES_INCAPACITATING',\n",
    "    'INJURIES_NON_INCAPACITATING',\n",
    "    'INJURIES_REPORTED_NOT_EVIDENT',\n",
    "    'INJURIES_NO_INDICATION',\n",
    "    'LOCATION'\n",
    "]"
   ]
  },
  {
   "cell_type": "code",
   "execution_count": 3,
   "id": "594c505f",
   "metadata": {},
   "outputs": [],
   "source": [
    "NA_VALUES = [\n",
    "    'UNKNOWN',\n",
    "    'OTHER',\n",
    "    'NOT APPLICABLE',\n",
    "    'UNABLE TO DETERMINE',\n",
    "    'NOT REPORTED',\n",
    "]"
   ]
  },
  {
   "cell_type": "code",
   "execution_count": 4,
   "id": "a8a24642",
   "metadata": {},
   "outputs": [
    {
     "name": "stdout",
     "output_type": "stream",
     "text": [
      "<class 'pandas.core.frame.DataFrame'>\n",
      "Int64Index: 301934 entries, 0 to 526552\n",
      "Data columns (total 27 columns):\n",
      " #   Column                   Non-Null Count   Dtype  \n",
      "---  ------                   --------------   -----  \n",
      " 0   CRASH_RECORD_ID          301934 non-null  object \n",
      " 1   CRASH_DATE               301934 non-null  object \n",
      " 2   POSTED_SPEED_LIMIT       301934 non-null  int64  \n",
      " 3   TRAFFIC_CONTROL_DEVICE   294593 non-null  object \n",
      " 4   DEVICE_CONDITION         288120 non-null  object \n",
      " 5   WEATHER_CONDITION        295279 non-null  object \n",
      " 6   LIGHTING_CONDITION       298364 non-null  object \n",
      " 7   FIRST_CRASH_TYPE         301934 non-null  object \n",
      " 8   TRAFFICWAY_TYPE          291675 non-null  object \n",
      " 9   ALIGNMENT                301934 non-null  object \n",
      " 10  ROADWAY_SURFACE_COND     289533 non-null  object \n",
      " 11  ROAD_DEFECT              263625 non-null  object \n",
      " 12  CRASH_TYPE               301934 non-null  object \n",
      " 13  INTERSECTION_RELATED_I   85281 non-null   object \n",
      " 14  HIT_AND_RUN_I            68134 non-null   object \n",
      " 15  DAMAGE                   301934 non-null  object \n",
      " 16  PRIM_CONTRIBUTORY_CAUSE  301934 non-null  object \n",
      " 17  WORK_ZONE_I              2309 non-null    object \n",
      " 18  NUM_UNITS                301934 non-null  int64  \n",
      " 19  MOST_SEVERE_INJURY       301668 non-null  object \n",
      " 20  INJURIES_TOTAL           301671 non-null  float64\n",
      " 21  INJURIES_FATAL           301671 non-null  float64\n",
      " 22  CRASH_HOUR               301934 non-null  int64  \n",
      " 23  CRASH_DAY_OF_WEEK        301934 non-null  int64  \n",
      " 24  CRASH_MONTH              301934 non-null  int64  \n",
      " 25  LATITUDE                 300067 non-null  float64\n",
      " 26  LONGITUDE                300067 non-null  float64\n",
      "dtypes: float64(4), int64(5), object(18)\n",
      "memory usage: 64.5+ MB\n"
     ]
    }
   ],
   "source": [
    "crashes = pd.read_csv('chicago_crashes.csv',\n",
    "                      na_values=NA_VALUES,\n",
    "                      true_values=['Y'],\n",
    "                      false_values=['N']\n",
    ").drop(columns=CRASHES_DROP)\n",
    "\n",
    "crashes_no_cause = crashes.loc[crashes['PRIM_CONTRIBUTORY_CAUSE'].isna(), :]\n",
    "\n",
    "crashes.dropna(subset=['PRIM_CONTRIBUTORY_CAUSE'], axis=0, inplace=True)\n",
    "# crashes.dropna(axis=1, how='any', thresh=0.05 * chi_crashes.shape[0], inplace=True)\n",
    "crashes.info()"
   ]
  },
  {
   "cell_type": "code",
   "execution_count": 5,
   "id": "10d14cbd",
   "metadata": {},
   "outputs": [],
   "source": [
    "# CRASH_DATE to CRASH_YEAR\n",
    "crashes['CRASH_DATE'] = crashes['CRASH_DATE'].map(lambda x: pd.to_datetime(x).year)\n",
    "crashes.rename({'CRASH_DATE': 'CRASH_YEAR'}, axis=1, inplace=True)"
   ]
  },
  {
   "cell_type": "code",
   "execution_count": 6,
   "id": "8d1011df",
   "metadata": {},
   "outputs": [],
   "source": [
    "# Save as PKL file\n",
    "with open('crashes.pkl', 'wb') as f:\n",
    "    pd.to_pickle(crashes, f)"
   ]
  },
  {
   "cell_type": "code",
   "execution_count": 4,
   "id": "51b02fe6",
   "metadata": {},
   "outputs": [
    {
     "name": "stdout",
     "output_type": "stream",
     "text": [
      "<class 'pandas.core.frame.DataFrame'>\n",
      "RangeIndex: 301934 entries, 0 to 301933\n",
      "Data columns (total 28 columns):\n",
      " #   Column                   Non-Null Count   Dtype  \n",
      "---  ------                   --------------   -----  \n",
      " 0   Unnamed: 0               301934 non-null  int64  \n",
      " 1   CRASH_RECORD_ID          301934 non-null  object \n",
      " 2   CRASH_YEAR               301934 non-null  int64  \n",
      " 3   POSTED_SPEED_LIMIT       301934 non-null  int64  \n",
      " 4   TRAFFIC_CONTROL_DEVICE   294593 non-null  object \n",
      " 5   DEVICE_CONDITION         288120 non-null  object \n",
      " 6   WEATHER_CONDITION        295279 non-null  object \n",
      " 7   LIGHTING_CONDITION       298364 non-null  object \n",
      " 8   FIRST_CRASH_TYPE         301934 non-null  object \n",
      " 9   TRAFFICWAY_TYPE          291675 non-null  object \n",
      " 10  ALIGNMENT                301934 non-null  object \n",
      " 11  ROADWAY_SURFACE_COND     289533 non-null  object \n",
      " 12  ROAD_DEFECT              263625 non-null  object \n",
      " 13  CRASH_TYPE               301934 non-null  object \n",
      " 14  INTERSECTION_RELATED_I   85281 non-null   object \n",
      " 15  HIT_AND_RUN_I            68134 non-null   object \n",
      " 16  DAMAGE                   301934 non-null  object \n",
      " 17  PRIM_CONTRIBUTORY_CAUSE  301934 non-null  object \n",
      " 18  WORK_ZONE_I              2309 non-null    object \n",
      " 19  NUM_UNITS                301934 non-null  int64  \n",
      " 20  MOST_SEVERE_INJURY       301668 non-null  object \n",
      " 21  INJURIES_TOTAL           301671 non-null  float64\n",
      " 22  INJURIES_FATAL           301671 non-null  float64\n",
      " 23  CRASH_HOUR               301934 non-null  int64  \n",
      " 24  CRASH_DAY_OF_WEEK        301934 non-null  int64  \n",
      " 25  CRASH_MONTH              301934 non-null  int64  \n",
      " 26  LATITUDE                 300067 non-null  float64\n",
      " 27  LONGITUDE                300067 non-null  float64\n",
      "dtypes: float64(4), int64(7), object(17)\n",
      "memory usage: 64.5+ MB\n"
     ]
    }
   ],
   "source": [
    "pd.read_csv('crashes.csv').info()"
   ]
  },
  {
   "cell_type": "code",
   "execution_count": 5,
   "id": "7e5e0b71",
   "metadata": {},
   "outputs": [
    {
     "name": "stdout",
     "output_type": "stream",
     "text": [
      "<class 'pandas.core.frame.DataFrame'>\n",
      "Int64Index: 301934 entries, 0 to 526552\n",
      "Data columns (total 27 columns):\n",
      " #   Column                   Non-Null Count   Dtype  \n",
      "---  ------                   --------------   -----  \n",
      " 0   CRASH_RECORD_ID          301934 non-null  object \n",
      " 1   CRASH_YEAR               301934 non-null  int64  \n",
      " 2   POSTED_SPEED_LIMIT       301934 non-null  int64  \n",
      " 3   TRAFFIC_CONTROL_DEVICE   294593 non-null  object \n",
      " 4   DEVICE_CONDITION         288120 non-null  object \n",
      " 5   WEATHER_CONDITION        295279 non-null  object \n",
      " 6   LIGHTING_CONDITION       298364 non-null  object \n",
      " 7   FIRST_CRASH_TYPE         301934 non-null  object \n",
      " 8   TRAFFICWAY_TYPE          291675 non-null  object \n",
      " 9   ALIGNMENT                301934 non-null  object \n",
      " 10  ROADWAY_SURFACE_COND     289533 non-null  object \n",
      " 11  ROAD_DEFECT              263625 non-null  object \n",
      " 12  CRASH_TYPE               301934 non-null  object \n",
      " 13  INTERSECTION_RELATED_I   85281 non-null   object \n",
      " 14  HIT_AND_RUN_I            68134 non-null   object \n",
      " 15  DAMAGE                   301934 non-null  object \n",
      " 16  PRIM_CONTRIBUTORY_CAUSE  301934 non-null  object \n",
      " 17  WORK_ZONE_I              2309 non-null    object \n",
      " 18  NUM_UNITS                301934 non-null  int64  \n",
      " 19  MOST_SEVERE_INJURY       301668 non-null  object \n",
      " 20  INJURIES_TOTAL           301671 non-null  float64\n",
      " 21  INJURIES_FATAL           301671 non-null  float64\n",
      " 22  CRASH_HOUR               301934 non-null  int64  \n",
      " 23  CRASH_DAY_OF_WEEK        301934 non-null  int64  \n",
      " 24  CRASH_MONTH              301934 non-null  int64  \n",
      " 25  LATITUDE                 300067 non-null  float64\n",
      " 26  LONGITUDE                300067 non-null  float64\n",
      "dtypes: float64(4), int64(6), object(17)\n",
      "memory usage: 64.5+ MB\n"
     ]
    }
   ],
   "source": [
    "with open('crashes.pkl', 'rb') as f:\n",
    "    pd.read_pickle(f).info()"
   ]
  },
  {
   "cell_type": "code",
   "execution_count": 8,
   "id": "9f026040",
   "metadata": {},
   "outputs": [
    {
     "data": {
      "text/plain": [
       "30    228051\n",
       "35     22479\n",
       "25     16109\n",
       "20      9870\n",
       "15      9252\n",
       "10      4930\n",
       "40      3406\n",
       "0       3276\n",
       "45      2163\n",
       "5       1771\n",
       "55       309\n",
       "50        77\n",
       "3         68\n",
       "9         39\n",
       "39        37\n",
       "60        17\n",
       "2         14\n",
       "99         9\n",
       "1          9\n",
       "32         8\n",
       "33         7\n",
       "34         6\n",
       "24         4\n",
       "11         4\n",
       "6          3\n",
       "36         3\n",
       "65         3\n",
       "70         2\n",
       "7          2\n",
       "63         1\n",
       "12         1\n",
       "49         1\n",
       "16         1\n",
       "38         1\n",
       "31         1\n",
       "Name: POSTED_SPEED_LIMIT, dtype: int64"
      ]
     },
     "execution_count": 8,
     "metadata": {},
     "output_type": "execute_result"
    }
   ],
   "source": [
    "# POSTED_SPEED_LIMIT\n",
    "crashes.POSTED_SPEED_LIMIT.value_counts(dropna=False)"
   ]
  },
  {
   "cell_type": "code",
   "execution_count": 9,
   "id": "b58bad3c",
   "metadata": {},
   "outputs": [
    {
     "data": {
      "text/plain": [
       "NO CONTROLS                 155074\n",
       "TRAFFIC SIGNAL              100091\n",
       "STOP SIGN/FLASHER            36095\n",
       "NaN                           7341\n",
       "LANE USE MARKING               961\n",
       "YIELD                          555\n",
       "OTHER REG. SIGN                407\n",
       "OTHER WARNING SIGN             381\n",
       "RAILROAD CROSSING GATE         230\n",
       "PEDESTRIAN CROSSING SIGN       178\n",
       "POLICE/FLAGMAN                 145\n",
       "DELINEATORS                    114\n",
       "SCHOOL ZONE                    112\n",
       "FLASHING CONTROL SIGNAL        104\n",
       "OTHER RAILROAD CROSSING         88\n",
       "RR CROSSING SIGN                25\n",
       "NO PASSING                      22\n",
       "BICYCLE CROSSING SIGN           11\n",
       "Name: TRAFFIC_CONTROL_DEVICE, dtype: int64"
      ]
     },
     "execution_count": 9,
     "metadata": {},
     "output_type": "execute_result"
    }
   ],
   "source": [
    "# TRAFFIC_CONTROL_DEVICE\n",
    "crashes.TRAFFIC_CONTROL_DEVICE.value_counts(dropna=False)"
   ]
  },
  {
   "cell_type": "code",
   "execution_count": 10,
   "id": "530b4d98",
   "metadata": {},
   "outputs": [
    {
     "data": {
      "text/plain": [
       "NO CONTROLS                 158074\n",
       "FUNCTIONING PROPERLY        126925\n",
       "NaN                          13814\n",
       "FUNCTIONING IMPROPERLY        1878\n",
       "NOT FUNCTIONING               1030\n",
       "WORN REFLECTIVE MATERIAL       166\n",
       "MISSING                         47\n",
       "Name: DEVICE_CONDITION, dtype: int64"
      ]
     },
     "execution_count": 10,
     "metadata": {},
     "output_type": "execute_result"
    }
   ],
   "source": [
    "# DEVICE CONDITION\n",
    "crashes.DEVICE_CONDITION.value_counts(dropna=False)"
   ]
  },
  {
   "cell_type": "code",
   "execution_count": 11,
   "id": "231e3a08",
   "metadata": {},
   "outputs": [
    {
     "data": {
      "text/plain": [
       "CLEAR                       241578\n",
       "RAIN                         29088\n",
       "SNOW                         12822\n",
       "CLOUDY/OVERCAST              10216\n",
       "NaN                           6655\n",
       "FOG/SMOKE/HAZE                 533\n",
       "SLEET/HAIL                     481\n",
       "FREEZING RAIN/DRIZZLE          379\n",
       "BLOWING SNOW                   107\n",
       "SEVERE CROSS WIND GATE          74\n",
       "BLOWING SAND, SOIL, DIRT         1\n",
       "Name: WEATHER_CONDITION, dtype: int64"
      ]
     },
     "execution_count": 11,
     "metadata": {},
     "output_type": "execute_result"
    }
   ],
   "source": [
    "# WEATHER CONDITION\n",
    "crashes.WEATHER_CONDITION.value_counts(dropna=False)"
   ]
  },
  {
   "cell_type": "code",
   "execution_count": 12,
   "id": "8b68b56c",
   "metadata": {},
   "outputs": [
    {
     "data": {
      "text/plain": [
       "DAYLIGHT                  202299\n",
       "DARKNESS, LIGHTED ROAD     67970\n",
       "DARKNESS                   13487\n",
       "DUSK                        9466\n",
       "DAWN                        5142\n",
       "NaN                         3570\n",
       "Name: LIGHTING_CONDITION, dtype: int64"
      ]
     },
     "execution_count": 12,
     "metadata": {},
     "output_type": "execute_result"
    }
   ],
   "source": [
    "# LIGHTING_CONDITION\n",
    "crashes.LIGHTING_CONDITION.value_counts(dropna=False)"
   ]
  },
  {
   "cell_type": "code",
   "execution_count": 13,
   "id": "207d71e5",
   "metadata": {},
   "outputs": [
    {
     "data": {
      "text/plain": [
       "REAR END                        81494\n",
       "TURNING                         52031\n",
       "SIDESWIPE SAME DIRECTION        49186\n",
       "PARKED MOTOR VEHICLE            42505\n",
       "ANGLE                           38675\n",
       "FIXED OBJECT                    12249\n",
       "PEDESTRIAN                       6624\n",
       "PEDALCYCLIST                     4404\n",
       "SIDESWIPE OPPOSITE DIRECTION     4389\n",
       "HEAD ON                          3022\n",
       "REAR TO FRONT                    2281\n",
       "OTHER OBJECT                     2156\n",
       "REAR TO SIDE                     1338\n",
       "OTHER NONCOLLISION                770\n",
       "REAR TO REAR                      369\n",
       "ANIMAL                            254\n",
       "OVERTURNED                        163\n",
       "TRAIN                              24\n",
       "Name: FIRST_CRASH_TYPE, dtype: int64"
      ]
     },
     "execution_count": 13,
     "metadata": {},
     "output_type": "execute_result"
    }
   ],
   "source": [
    "# FIRST_CRASH_TYPE\n",
    "crashes.FIRST_CRASH_TYPE.value_counts(dropna=False)"
   ]
  },
  {
   "cell_type": "code",
   "execution_count": 14,
   "id": "23b03d6c",
   "metadata": {},
   "outputs": [
    {
     "data": {
      "text/plain": [
       "NOT DIVIDED                        133383\n",
       "DIVIDED - W/MEDIAN (NOT RAISED)     58921\n",
       "ONE-WAY                             33819\n",
       "DIVIDED - W/MEDIAN BARRIER          21017\n",
       "PARKING LOT                         16728\n",
       "FOUR WAY                            13824\n",
       "NaN                                 10259\n",
       "ALLEY                                4269\n",
       "CENTER TURN LANE                     3148\n",
       "T-INTERSECTION                       2832\n",
       "RAMP                                 1082\n",
       "DRIVEWAY                              943\n",
       "UNKNOWN INTERSECTION TYPE             695\n",
       "FIVE POINT, OR MORE                   329\n",
       "Y-INTERSECTION                        300\n",
       "TRAFFIC ROUTE                         265\n",
       "ROUNDABOUT                             70\n",
       "L-INTERSECTION                         50\n",
       "Name: TRAFFICWAY_TYPE, dtype: int64"
      ]
     },
     "execution_count": 14,
     "metadata": {},
     "output_type": "execute_result"
    }
   ],
   "source": [
    "# TRAFFICWAY_TYPE\n",
    "crashes.TRAFFICWAY_TYPE.value_counts(dropna=False)"
   ]
  },
  {
   "cell_type": "code",
   "execution_count": 15,
   "id": "905cc08e",
   "metadata": {},
   "outputs": [
    {
     "data": {
      "text/plain": [
       "STRAIGHT AND LEVEL       293071\n",
       "STRAIGHT ON GRADE          4435\n",
       "CURVE, LEVEL               2634\n",
       "STRAIGHT ON HILLCREST      1095\n",
       "CURVE ON GRADE              538\n",
       "CURVE ON HILLCREST          161\n",
       "Name: ALIGNMENT, dtype: int64"
      ]
     },
     "execution_count": 15,
     "metadata": {},
     "output_type": "execute_result"
    }
   ],
   "source": [
    "# ALIGNMENT\n",
    "crashes.ALIGNMENT.value_counts(dropna=False)"
   ]
  },
  {
   "cell_type": "code",
   "execution_count": 16,
   "id": "1e409a38",
   "metadata": {},
   "outputs": [
    {
     "data": {
      "text/plain": [
       "DRY                229490\n",
       "WET                 44810\n",
       "SNOW OR SLUSH       12417\n",
       "NaN                 12401\n",
       "ICE                  2684\n",
       "SAND, MUD, DIRT       132\n",
       "Name: ROADWAY_SURFACE_COND, dtype: int64"
      ]
     },
     "execution_count": 16,
     "metadata": {},
     "output_type": "execute_result"
    }
   ],
   "source": [
    "# ROADWAY_SURFACE_COND\n",
    "crashes.ROADWAY_SURFACE_COND.value_counts(dropna=False)"
   ]
  },
  {
   "cell_type": "code",
   "execution_count": 17,
   "id": "82cb9032",
   "metadata": {},
   "outputs": [
    {
     "data": {
      "text/plain": [
       "NO INJURY / DRIVE AWAY              212152\n",
       "INJURY AND / OR TOW DUE TO CRASH     89782\n",
       "Name: CRASH_TYPE, dtype: int64"
      ]
     },
     "execution_count": 17,
     "metadata": {},
     "output_type": "execute_result"
    }
   ],
   "source": [
    "# CRASH_TYPE\n",
    "crashes.CRASH_TYPE.value_counts(dropna=False)"
   ]
  },
  {
   "cell_type": "code",
   "execution_count": 18,
   "id": "98463529",
   "metadata": {},
   "outputs": [
    {
     "data": {
      "text/plain": [
       "NaN      216653\n",
       "True      81525\n",
       "False      3756\n",
       "Name: INTERSECTION_RELATED_I, dtype: int64"
      ]
     },
     "execution_count": 18,
     "metadata": {},
     "output_type": "execute_result"
    }
   ],
   "source": [
    "# INTERSECTION_RELATED_I\n",
    "crashes.INTERSECTION_RELATED_I.value_counts(dropna=False)"
   ]
  },
  {
   "cell_type": "code",
   "execution_count": 19,
   "id": "d53e9bc9",
   "metadata": {},
   "outputs": [
    {
     "data": {
      "text/plain": [
       "NaN      233800\n",
       "True      64427\n",
       "False      3707\n",
       "Name: HIT_AND_RUN_I, dtype: int64"
      ]
     },
     "execution_count": 19,
     "metadata": {},
     "output_type": "execute_result"
    }
   ],
   "source": [
    "# HIT_AND_RUN_I\n",
    "crashes.HIT_AND_RUN_I.value_counts(dropna=False)"
   ]
  },
  {
   "cell_type": "code",
   "execution_count": 20,
   "id": "7d7b5ea5",
   "metadata": {},
   "outputs": [
    {
     "data": {
      "text/plain": [
       "OVER $1,500      184933\n",
       "$501 - $1,500     80592\n",
       "$500 OR LESS      36409\n",
       "Name: DAMAGE, dtype: int64"
      ]
     },
     "execution_count": 20,
     "metadata": {},
     "output_type": "execute_result"
    }
   ],
   "source": [
    "# DAMAGE\n",
    "crashes.DAMAGE.value_counts(dropna=False)"
   ]
  },
  {
   "cell_type": "code",
   "execution_count": 21,
   "id": "38763b16",
   "metadata": {},
   "outputs": [
    {
     "data": {
      "text/plain": [
       "NaN      299625\n",
       "True       1877\n",
       "False       432\n",
       "Name: WORK_ZONE_I, dtype: int64"
      ]
     },
     "execution_count": 21,
     "metadata": {},
     "output_type": "execute_result"
    }
   ],
   "source": [
    "# WORK_ZONE_I\n",
    "crashes.WORK_ZONE_I.value_counts(dropna=False)"
   ]
  },
  {
   "cell_type": "code",
   "execution_count": 22,
   "id": "a51c99b4",
   "metadata": {},
   "outputs": [
    {
     "data": {
      "text/plain": [
       "NO INDICATION OF INJURY     254043\n",
       "NONINCAPACITATING INJURY     26653\n",
       "REPORTED, NOT EVIDENT        14622\n",
       "INCAPACITATING INJURY         6031\n",
       "FATAL                          319\n",
       "NaN                            266\n",
       "Name: MOST_SEVERE_INJURY, dtype: int64"
      ]
     },
     "execution_count": 22,
     "metadata": {},
     "output_type": "execute_result"
    }
   ],
   "source": [
    "# MOST_SEVERE_INJURY\n",
    "crashes.MOST_SEVERE_INJURY.value_counts(dropna=False)"
   ]
  },
  {
   "cell_type": "code",
   "execution_count": 23,
   "id": "a4166316",
   "metadata": {},
   "outputs": [
    {
     "data": {
      "text/plain": [
       "0.0     254046\n",
       "1.0      34977\n",
       "2.0       8437\n",
       "3.0       2618\n",
       "4.0        968\n",
       "5.0        370\n",
       "NaN        263\n",
       "6.0        150\n",
       "7.0         55\n",
       "8.0         18\n",
       "9.0         13\n",
       "10.0         5\n",
       "15.0         4\n",
       "11.0         4\n",
       "21.0         2\n",
       "12.0         2\n",
       "19.0         1\n",
       "13.0         1\n",
       "Name: INJURIES_TOTAL, dtype: int64"
      ]
     },
     "execution_count": 23,
     "metadata": {},
     "output_type": "execute_result"
    }
   ],
   "source": [
    "# INJURIES_TOTAL\n",
    "crashes.INJURIES_TOTAL.value_counts(dropna=False)"
   ]
  },
  {
   "cell_type": "code",
   "execution_count": 24,
   "id": "c43366de",
   "metadata": {},
   "outputs": [
    {
     "data": {
      "text/plain": [
       "0.0    301352\n",
       "1.0       295\n",
       "NaN       263\n",
       "2.0        19\n",
       "3.0         4\n",
       "4.0         1\n",
       "Name: INJURIES_FATAL, dtype: int64"
      ]
     },
     "execution_count": 24,
     "metadata": {},
     "output_type": "execute_result"
    }
   ],
   "source": [
    "# INJURIES_FATAL\n",
    "crashes.INJURIES_FATAL.value_counts(dropna=False)"
   ]
  },
  {
   "cell_type": "code",
   "execution_count": 25,
   "id": "50ac9f0b",
   "metadata": {},
   "outputs": [
    {
     "data": {
      "text/plain": [
       "16    23815\n",
       "17    23503\n",
       "15    23279\n",
       "14    20358\n",
       "18    19126\n",
       "13    18551\n",
       "12    17552\n",
       "8     16163\n",
       "11    15781\n",
       "9     14040\n",
       "19    14013\n",
       "10    13887\n",
       "7     12940\n",
       "20    11103\n",
       "21     9842\n",
       "22     9037\n",
       "23     7635\n",
       "6      6540\n",
       "0      5864\n",
       "1      4810\n",
       "2      4161\n",
       "5      3684\n",
       "3      3269\n",
       "4      2981\n",
       "Name: CRASH_HOUR, dtype: int64"
      ]
     },
     "execution_count": 25,
     "metadata": {},
     "output_type": "execute_result"
    }
   ],
   "source": [
    "# CRASH_HOUR\n",
    "crashes.CRASH_HOUR.value_counts(dropna=False)"
   ]
  },
  {
   "cell_type": "code",
   "execution_count": 26,
   "id": "30043e28",
   "metadata": {},
   "outputs": [
    {
     "data": {
      "text/plain": [
       "6    49668\n",
       "7    44620\n",
       "5    43894\n",
       "3    43231\n",
       "4    43218\n",
       "2    41541\n",
       "1    35762\n",
       "Name: CRASH_DAY_OF_WEEK, dtype: int64"
      ]
     },
     "execution_count": 26,
     "metadata": {},
     "output_type": "execute_result"
    }
   ],
   "source": [
    "# CRASH_DAY_OF_WEEK\n",
    "crashes.CRASH_DAY_OF_WEEK.value_counts(dropna=False)"
   ]
  },
  {
   "cell_type": "code",
   "execution_count": 27,
   "id": "12eb4b5a",
   "metadata": {},
   "outputs": [
    {
     "data": {
      "text/plain": [
       "7     27590\n",
       "6     27267\n",
       "10    26937\n",
       "5     26556\n",
       "12    25891\n",
       "11    24943\n",
       "9     24788\n",
       "1     24090\n",
       "8     24061\n",
       "3     23533\n",
       "2     23502\n",
       "4     22776\n",
       "Name: CRASH_MONTH, dtype: int64"
      ]
     },
     "execution_count": 27,
     "metadata": {},
     "output_type": "execute_result"
    }
   ],
   "source": [
    "# CRASH_MONTH\n",
    "crashes.CRASH_MONTH.value_counts(dropna=False)"
   ]
  },
  {
   "cell_type": "code",
   "execution_count": 28,
   "id": "b7e65c2b",
   "metadata": {},
   "outputs": [
    {
     "data": {
      "text/plain": [
       "count    300067.000000\n",
       "mean         41.855609\n",
       "std           0.360599\n",
       "min           0.000000\n",
       "25%          41.782473\n",
       "50%          41.876351\n",
       "75%          41.924712\n",
       "max          42.022780\n",
       "Name: LATITUDE, dtype: float64"
      ]
     },
     "execution_count": 28,
     "metadata": {},
     "output_type": "execute_result"
    }
   ],
   "source": [
    "# LATITUDE\n",
    "crashes.LATITUDE.describe()"
   ]
  },
  {
   "cell_type": "code",
   "execution_count": 29,
   "id": "78b7061d",
   "metadata": {},
   "outputs": [
    {
     "data": {
      "text/plain": [
       "count    300067.000000\n",
       "mean        -87.671858\n",
       "std           0.735829\n",
       "min         -87.934763\n",
       "25%         -87.721060\n",
       "50%         -87.670865\n",
       "75%         -87.632267\n",
       "max           0.000000\n",
       "Name: LONGITUDE, dtype: float64"
      ]
     },
     "execution_count": 29,
     "metadata": {},
     "output_type": "execute_result"
    }
   ],
   "source": [
    "# LONGITUDE\n",
    "crashes.LONGITUDE.describe()"
   ]
  },
  {
   "cell_type": "code",
   "execution_count": 30,
   "id": "3a9efc60",
   "metadata": {},
   "outputs": [
    {
     "data": {
      "text/plain": [
       "FAILING TO YIELD RIGHT-OF-WAY                                                       57579\n",
       "FOLLOWING TOO CLOSELY                                                               55033\n",
       "IMPROPER OVERTAKING/PASSING                                                         25039\n",
       "FAILING TO REDUCE SPEED TO AVOID CRASH                                              22779\n",
       "IMPROPER BACKING                                                                    22730\n",
       "IMPROPER LANE USAGE                                                                 20134\n",
       "IMPROPER TURNING/NO SIGNAL                                                          17415\n",
       "DRIVING SKILLS/KNOWLEDGE/EXPERIENCE                                                 16645\n",
       "DISREGARDING TRAFFIC SIGNALS                                                         9743\n",
       "WEATHER                                                                              8699\n",
       "OPERATING VEHICLE IN ERRATIC, RECKLESS, CARELESS, NEGLIGENT OR AGGRESSIVE MANNER     6727\n",
       "DISREGARDING STOP SIGN                                                               5890\n",
       "DISTRACTION - FROM INSIDE VEHICLE                                                    3860\n",
       "EQUIPMENT - VEHICLE CONDITION                                                        3331\n",
       "PHYSICAL CONDITION OF DRIVER                                                         3147\n",
       "VISION OBSCURED (SIGNS, TREE LIMBS, BUILDINGS, ETC.)                                 3077\n",
       "UNDER THE INFLUENCE OF ALCOHOL/DRUGS (USE WHEN ARREST IS EFFECTED)                   2798\n",
       "DRIVING ON WRONG SIDE/WRONG WAY                                                      2565\n",
       "DISTRACTION - FROM OUTSIDE VEHICLE                                                   2335\n",
       "EXCEEDING AUTHORIZED SPEED LIMIT                                                     1982\n",
       "EXCEEDING SAFE SPEED FOR CONDITIONS                                                  1684\n",
       "ROAD ENGINEERING/SURFACE/MARKING DEFECTS                                             1430\n",
       "ROAD CONSTRUCTION/MAINTENANCE                                                        1257\n",
       "DISREGARDING OTHER TRAFFIC SIGNS                                                     1134\n",
       "EVASIVE ACTION DUE TO ANIMAL, OBJECT, NONMOTORIST                                     990\n",
       "CELL PHONE USE OTHER THAN TEXTING                                                     751\n",
       "DISREGARDING ROAD MARKINGS                                                            712\n",
       "HAD BEEN DRINKING (USE WHEN ARREST IS NOT MADE)                                       590\n",
       "ANIMAL                                                                                447\n",
       "TURNING RIGHT ON RED                                                                  372\n",
       "DISTRACTION - OTHER ELECTRONIC DEVICE (NAVIGATION DEVICE, DVD PLAYER, ETC.)           253\n",
       "TEXTING                                                                               229\n",
       "DISREGARDING YIELD SIGN                                                               195\n",
       "RELATED TO BUS STOP                                                                   188\n",
       "BICYCLE ADVANCING LEGALLY ON RED LIGHT                                                 70\n",
       "PASSING STOPPED SCHOOL BUS                                                             69\n",
       "OBSTRUCTED CROSSWALKS                                                                  36\n",
       "MOTORCYCLE ADVANCING LEGALLY ON RED LIGHT                                              19\n",
       "Name: PRIM_CONTRIBUTORY_CAUSE, dtype: int64"
      ]
     },
     "execution_count": 30,
     "metadata": {},
     "output_type": "execute_result"
    }
   ],
   "source": [
    "# PRIM_CONTRIBUTORY_CAUSE\n",
    "crashes.PRIM_CONTRIBUTORY_CAUSE.value_counts(dropna=False)"
   ]
  },
  {
   "cell_type": "code",
   "execution_count": 31,
   "id": "5388d49f",
   "metadata": {},
   "outputs": [
    {
     "name": "stderr",
     "output_type": "stream",
     "text": [
      "/Users/iansharff/opt/anaconda3/lib/python3.8/site-packages/IPython/core/interactiveshell.py:3165: DtypeWarning: Columns (21,40,41,42,44,48,49,50,55,58,59,61,71) have mixed types.Specify dtype option on import or set low_memory=False.\n",
      "  has_raised = await self.run_ast_nodes(code_ast.body, cell_name,\n"
     ]
    },
    {
     "name": "stdout",
     "output_type": "stream",
     "text": [
      "<class 'pandas.core.frame.DataFrame'>\n",
      "RangeIndex: 401378 entries, 0 to 401377\n",
      "Data columns (total 72 columns):\n",
      " #   Column                    Non-Null Count   Dtype  \n",
      "---  ------                    --------------   -----  \n",
      " 0   CRASH_UNIT_ID             401378 non-null  int64  \n",
      " 1   CRASH_RECORD_ID           401378 non-null  object \n",
      " 2   RD_NO                     401377 non-null  object \n",
      " 3   CRASH_DATE                401377 non-null  object \n",
      " 4   UNIT_NO                   401377 non-null  float64\n",
      " 5   UNIT_TYPE                 399973 non-null  object \n",
      " 6   NUM_PASSENGERS            63614 non-null   float64\n",
      " 7   VEHICLE_ID                391220 non-null  float64\n",
      " 8   CMRC_VEH_I                6801 non-null    object \n",
      " 9   MAKE                      391215 non-null  object \n",
      " 10  MODEL                     391073 non-null  object \n",
      " 11  LIC_PLATE_STATE           358474 non-null  object \n",
      " 12  VEHICLE_YEAR              328702 non-null  float64\n",
      " 13  VEHICLE_DEFECT            391220 non-null  object \n",
      " 14  VEHICLE_TYPE              391220 non-null  object \n",
      " 15  VEHICLE_USE               391220 non-null  object \n",
      " 16  TRAVEL_DIRECTION          391220 non-null  object \n",
      " 17  MANEUVER                  391220 non-null  object \n",
      " 18  TOWED_I                   46132 non-null   object \n",
      " 19  FIRE_I                    336 non-null     object \n",
      " 20  OCCUPANT_CNT              391220 non-null  float64\n",
      " 21  EXCEED_SPEED_LIMIT_I      1011 non-null    object \n",
      " 22  TOWED_BY                  33145 non-null   object \n",
      " 23  TOWED_TO                  21088 non-null   object \n",
      " 24  AREA_00_I                 15382 non-null   object \n",
      " 25  AREA_01_I                 105374 non-null  object \n",
      " 26  AREA_02_I                 66354 non-null   object \n",
      " 27  AREA_03_I                 37733 non-null   object \n",
      " 28  AREA_04_I                 38980 non-null   object \n",
      " 29  AREA_05_I                 62454 non-null   object \n",
      " 30  AREA_06_I                 59544 non-null   object \n",
      " 31  AREA_07_I                 52277 non-null   object \n",
      " 32  AREA_08_I                 64888 non-null   object \n",
      " 33  AREA_09_I                 17932 non-null   object \n",
      " 34  AREA_10_I                 25946 non-null   object \n",
      " 35  AREA_11_I                 51808 non-null   object \n",
      " 36  AREA_12_I                 50803 non-null   object \n",
      " 37  AREA_99_I                 43163 non-null   object \n",
      " 38  FIRST_CONTACT_POINT       388447 non-null  object \n",
      " 39  CMV_ID                    3761 non-null    float64\n",
      " 40  USDOT_NO                  2190 non-null    object \n",
      " 41  CCMC_NO                   494 non-null     object \n",
      " 42  ILCC_NO                   367 non-null     object \n",
      " 43  COMMERCIAL_SRC            2682 non-null    object \n",
      " 44  GVWR                      2207 non-null    object \n",
      " 45  CARRIER_NAME              3623 non-null    object \n",
      " 46  CARRIER_STATE             3389 non-null    object \n",
      " 47  CARRIER_CITY              3339 non-null    object \n",
      " 48  HAZMAT_PLACARDS_I         79 non-null      object \n",
      " 49  HAZMAT_NAME               12 non-null      object \n",
      " 50  UN_NO                     148 non-null     object \n",
      " 51  HAZMAT_PRESENT_I          2792 non-null    object \n",
      " 52  HAZMAT_REPORT_I           2705 non-null    object \n",
      " 53  HAZMAT_REPORT_NO          0 non-null       float64\n",
      " 54  MCS_REPORT_I              2712 non-null    object \n",
      " 55  MCS_REPORT_NO             3 non-null       object \n",
      " 56  HAZMAT_VIO_CAUSE_CRASH_I  2740 non-null    object \n",
      " 57  MCS_VIO_CAUSE_CRASH_I     2700 non-null    object \n",
      " 58  IDOT_PERMIT_NO            225 non-null     object \n",
      " 59  WIDE_LOAD_I               34 non-null      object \n",
      " 60  TRAILER1_WIDTH            818 non-null     object \n",
      " 61  TRAILER2_WIDTH            83 non-null      object \n",
      " 62  TRAILER1_LENGTH           670 non-null     float64\n",
      " 63  TRAILER2_LENGTH           19 non-null      float64\n",
      " 64  TOTAL_VEHICLE_LENGTH      813 non-null     float64\n",
      " 65  AXLE_CNT                  1117 non-null    float64\n",
      " 66  VEHICLE_CONFIG            3125 non-null    object \n",
      " 67  CARGO_BODY_TYPE           3010 non-null    object \n",
      " 68  LOAD_TYPE                 2900 non-null    object \n",
      " 69  HAZMAT_OUT_OF_SERVICE_I   2633 non-null    object \n",
      " 70  MCS_OUT_OF_SERVICE_I      2708 non-null    object \n",
      " 71  HAZMAT_CLASS              253 non-null     object \n",
      "dtypes: float64(11), int64(1), object(60)\n",
      "memory usage: 220.5+ MB\n"
     ]
    }
   ],
   "source": [
    "vehicles = pd.read_csv('chicago_vehicles.csv')\n",
    "# vehicles.dropna(axis=1, thresh = 0.25*vehicles.shape[0], inplace=True)\n",
    "# (21,40,41,42,44,48,49,50,55,58,59,61,71) have mixed dtypes\n",
    "vehicles.info()"
   ]
  },
  {
   "cell_type": "code",
   "execution_count": 32,
   "id": "08f61ec6",
   "metadata": {},
   "outputs": [
    {
     "name": "stderr",
     "output_type": "stream",
     "text": [
      "/Users/iansharff/opt/anaconda3/lib/python3.8/site-packages/IPython/core/interactiveshell.py:3165: DtypeWarning: Columns (12,13,20,21,22,23,24,25,26,27,29) have mixed types.Specify dtype option on import or set low_memory=False.\n",
      "  has_raised = await self.run_ast_nodes(code_ast.body, cell_name,\n"
     ]
    },
    {
     "name": "stdout",
     "output_type": "stream",
     "text": [
      "<class 'pandas.core.frame.DataFrame'>\n",
      "RangeIndex: 1163545 entries, 0 to 1163544\n",
      "Data columns (total 30 columns):\n",
      " #   Column                 Non-Null Count    Dtype  \n",
      "---  ------                 --------------    -----  \n",
      " 0   PERSON_ID              1163545 non-null  object \n",
      " 1   PERSON_TYPE            1163545 non-null  object \n",
      " 2   CRASH_RECORD_ID        1163545 non-null  object \n",
      " 3   RD_NO                  1153773 non-null  object \n",
      " 4   VEHICLE_ID             1140646 non-null  float64\n",
      " 5   CRASH_DATE             1163545 non-null  object \n",
      " 6   SEAT_NO                237977 non-null   float64\n",
      " 7   CITY                   857009 non-null   object \n",
      " 8   STATE                  867050 non-null   object \n",
      " 9   ZIPCODE                782529 non-null   object \n",
      " 10  SEX                    1146042 non-null  object \n",
      " 11  AGE                    830249 non-null   float64\n",
      " 12  DRIVERS_LICENSE_STATE  687246 non-null   object \n",
      " 13  DRIVERS_LICENSE_CLASS  593382 non-null   object \n",
      " 14  SAFETY_EQUIPMENT       1160131 non-null  object \n",
      " 15  AIRBAG_DEPLOYED        1141623 non-null  object \n",
      " 16  EJECTION               1149363 non-null  object \n",
      " 17  INJURY_CLASSIFICATION  1162960 non-null  object \n",
      " 18  HOSPITAL               210077 non-null   object \n",
      " 19  EMS_AGENCY             133041 non-null   object \n",
      " 20  EMS_RUN_NO             21752 non-null    object \n",
      " 21  DRIVER_ACTION          923341 non-null   object \n",
      " 22  DRIVER_VISION          923024 non-null   object \n",
      " 23  PHYSICAL_CONDITION     924014 non-null   object \n",
      " 24  PEDPEDAL_ACTION        21542 non-null    object \n",
      " 25  PEDPEDAL_VISIBILITY    21494 non-null    object \n",
      " 26  PEDPEDAL_LOCATION      21541 non-null    object \n",
      " 27  BAC_RESULT             924451 non-null   object \n",
      " 28  BAC_RESULT VALUE       1477 non-null     float64\n",
      " 29  CELL_PHONE_USE         1157 non-null     object \n",
      "dtypes: float64(4), object(26)\n",
      "memory usage: 266.3+ MB\n"
     ]
    }
   ],
   "source": [
    "people = pd.read_csv('chicago_people.csv')\n",
    "# Columns (12,13,20,21,22,23,24,25,26,27,29) have mixed dtypes\n",
    "people.info()"
   ]
  },
  {
   "cell_type": "code",
   "execution_count": null,
   "id": "2af6b385",
   "metadata": {},
   "outputs": [],
   "source": []
  }
 ],
 "metadata": {
  "kernelspec": {
   "display_name": "Python 3",
   "language": "python",
   "name": "python3"
  },
  "language_info": {
   "codemirror_mode": {
    "name": "ipython",
    "version": 3
   },
   "file_extension": ".py",
   "mimetype": "text/x-python",
   "name": "python",
   "nbconvert_exporter": "python",
   "pygments_lexer": "ipython3",
   "version": "3.8.5"
  }
 },
 "nbformat": 4,
 "nbformat_minor": 5
}
