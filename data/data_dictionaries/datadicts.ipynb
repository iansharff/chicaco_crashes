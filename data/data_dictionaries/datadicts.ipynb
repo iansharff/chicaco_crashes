{
 "cells": [
  {
   "cell_type": "markdown",
   "id": "0e099ba2",
   "metadata": {},
   "source": [
    "# Creating Data Dictionaries for Crashes, Vehicles, and People Datasets"
   ]
  },
  {
   "cell_type": "code",
   "execution_count": 1,
   "id": "363ce71c",
   "metadata": {},
   "outputs": [],
   "source": [
    "# HTML parsing\n",
    "from bs4 import BeautifulSoup"
   ]
  },
  {
   "cell_type": "code",
   "execution_count": 2,
   "id": "fffceb64",
   "metadata": {},
   "outputs": [],
   "source": [
    "def write_datadict(path, title):\n",
    "    \"\"\"\n",
    "    Create a data dictionary Markdown file from an HTML table file\n",
    "    \n",
    "    Parameters\n",
    "    ----------\n",
    "    path : str\n",
    "        file path for the HTML file\n",
    "    title : str\n",
    "        title for the data dictionary Markdown file\n",
    "    \"\"\"\n",
    "    \n",
    "    with open(path) as f:  \n",
    "        soup = BeautifulSoup(f, 'lxml')\n",
    "    \n",
    "    # Create lists of name and description tags from soup\n",
    "    name_tags = soup.table.tbody.find_all('td', attrs={'class': 'column-name'}, recursive=True)\n",
    "    descr_tags = soup.table.tbody.find_all('td', attrs={'class': 'column-description'}, recursive=True)\n",
    "    type_tags = soup.table.tbody.find_all('td', attrs={'class': 'column-type'}, recursive=True)\n",
    "    \n",
    "    # Convert to string values\n",
    "    feature_names = [name_tag.text.strip() for name_tag in name_tags]\n",
    "    descr_tags = [descr_tag.text.strip() for descr_tag in descr_tags]\n",
    "    type_tags = [type_tag.text.strip() for type_tag in type_tags]\n",
    "    \n",
    "    # Zip lists into 3-tuples\n",
    "    metadata = zip(feature_names, descr_tags, type_tags)\n",
    "    \n",
    "    # Write and format Markdown file\n",
    "    with open(f\"datadict_{title.lower()}.md\", 'w') as datadict_file:\n",
    "        datadict_file.write(f\"# {title} Data Dictionary\\n___\\n\")\n",
    "        for name, description, col_type in metadata:\n",
    "            text = f\"\\n## {name}: _{col_type}_\\n\\t{description}\\n\"\n",
    "            datadict_file.write(text)"
   ]
  },
  {
   "cell_type": "code",
   "execution_count": 3,
   "id": "6c08fbfc",
   "metadata": {},
   "outputs": [],
   "source": [
    "paths_titles = {\n",
    "    'metadata_htmls/metadata_crashes.html': 'Crashes',\n",
    "    'metadata_htmls/metadata_people.html': 'People',\n",
    "    'metadata_htmls/metadata_vehicles.html': 'Vehicles'\n",
    "}\n",
    "\n",
    "for path, title in paths_titles.items():\n",
    "    write_datadict(path, title)"
   ]
  }
 ],
 "metadata": {
  "kernelspec": {
   "display_name": "Python 3",
   "language": "python",
   "name": "python3"
  },
  "language_info": {
   "codemirror_mode": {
    "name": "ipython",
    "version": 3
   },
   "file_extension": ".py",
   "mimetype": "text/x-python",
   "name": "python",
   "nbconvert_exporter": "python",
   "pygments_lexer": "ipython3",
   "version": "3.8.5"
  }
 },
 "nbformat": 4,
 "nbformat_minor": 5
}
