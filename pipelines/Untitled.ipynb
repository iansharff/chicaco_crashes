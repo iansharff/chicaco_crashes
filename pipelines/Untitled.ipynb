{
 "cells": [
  {
   "cell_type": "code",
   "execution_count": 1,
   "id": "cc5e7c6f",
   "metadata": {},
   "outputs": [],
   "source": [
    "import pickle\n",
    "import pandas as pd\n",
    "import numpy as np"
   ]
  },
  {
   "cell_type": "code",
   "execution_count": 2,
   "id": "a93eaae1",
   "metadata": {},
   "outputs": [
    {
     "data": {
      "text/plain": [
       "0         DRIVER\n",
       "1         DRIVER\n",
       "2         DRIVER\n",
       "3         DRIVER\n",
       "4         DRIVER\n",
       "           ...  \n",
       "301929    DRIVER\n",
       "301930    DRIVER\n",
       "301931    DRIVER\n",
       "301932    DRIVER\n",
       "301933    DRIVER\n",
       "Name: PRIM_CONTRIBUTORY_CAUSE, Length: 301934, dtype: object"
      ]
     },
     "execution_count": 2,
     "metadata": {},
     "output_type": "execute_result"
    }
   ],
   "source": [
    "with open('binned_causes.pkl', 'rb') as f:\n",
    "    binned_causes = pickle.load(f)\n",
    "    \n",
    "crashes = pd.read_csv('../data/crashes.csv')\n",
    "\n",
    "crashes.PRIM_CONTRIBUTORY_CAUSE.map(binned_causes)"
   ]
  },
  {
   "cell_type": "code",
   "execution_count": 7,
   "id": "2be659dd",
   "metadata": {},
   "outputs": [
    {
     "data": {
      "text/plain": [
       "ROAD CONSTRUCTION/MAINTENANCE                1257\n",
       "RELATED TO BUS STOP                           188\n",
       "BICYCLE ADVANCING LEGALLY ON RED LIGHT         70\n",
       "MOTORCYCLE ADVANCING LEGALLY ON RED LIGHT      19\n",
       "Name: PRIM_CONTRIBUTORY_CAUSE, dtype: int64"
      ]
     },
     "execution_count": 7,
     "metadata": {},
     "output_type": "execute_result"
    }
   ],
   "source": [
    "x = crashes.PRIM_CONTRIBUTORY_CAUSE.map(binned_causes)\n",
    "crashes[x.isna()].PRIM_CONTRIBUTORY_CAUSE.value_counts()"
   ]
  },
  {
   "cell_type": "code",
   "execution_count": 8,
   "id": "a015904f",
   "metadata": {},
   "outputs": [
    {
     "data": {
      "text/plain": [
       "NO INDICATION OF INJURY     254043\n",
       "NONINCAPACITATING INJURY     26653\n",
       "REPORTED, NOT EVIDENT        14622\n",
       "INCAPACITATING INJURY         6031\n",
       "FATAL                          319\n",
       "Name: MOST_SEVERE_INJURY, dtype: int64"
      ]
     },
     "execution_count": 8,
     "metadata": {},
     "output_type": "execute_result"
    }
   ],
   "source": [
    "crashes.MOST_SEVERE_INJURY.value_counts()"
   ]
  },
  {
   "cell_type": "code",
   "execution_count": 9,
   "id": "9f10fc1f",
   "metadata": {},
   "outputs": [],
   "source": [
    "crashes_injuries = crashes[crashes.MOST_SEVERE_INJURY.isin([\n",
    "    'NONINCAPACITATING INJURY',\n",
    "    'INCAPACITATING INJURY',\n",
    "    'FATAL'\n",
    "])]"
   ]
  },
  {
   "cell_type": "code",
   "execution_count": 12,
   "id": "66d10417",
   "metadata": {},
   "outputs": [
    {
     "name": "stdout",
     "output_type": "stream",
     "text": [
      "<class 'pandas.core.frame.DataFrame'>\n",
      "Int64Index: 33003 entries, 3 to 301931\n",
      "Data columns (total 28 columns):\n",
      " #   Column                   Non-Null Count  Dtype  \n",
      "---  ------                   --------------  -----  \n",
      " 0   Unnamed: 0               33003 non-null  int64  \n",
      " 1   CRASH_RECORD_ID          33003 non-null  object \n",
      " 2   CRASH_YEAR               33003 non-null  int64  \n",
      " 3   POSTED_SPEED_LIMIT       33003 non-null  int64  \n",
      " 4   TRAFFIC_CONTROL_DEVICE   32372 non-null  object \n",
      " 5   DEVICE_CONDITION         31522 non-null  object \n",
      " 6   WEATHER_CONDITION        32622 non-null  object \n",
      " 7   LIGHTING_CONDITION       32859 non-null  object \n",
      " 8   FIRST_CRASH_TYPE         33003 non-null  object \n",
      " 9   TRAFFICWAY_TYPE          32075 non-null  object \n",
      " 10  ALIGNMENT                33003 non-null  object \n",
      " 11  ROADWAY_SURFACE_COND     32227 non-null  object \n",
      " 12  ROAD_DEFECT              29483 non-null  object \n",
      " 13  CRASH_TYPE               33003 non-null  object \n",
      " 14  INTERSECTION_RELATED_I   15861 non-null  object \n",
      " 15  HIT_AND_RUN_I            6365 non-null   object \n",
      " 16  DAMAGE                   33003 non-null  object \n",
      " 17  PRIM_CONTRIBUTORY_CAUSE  33003 non-null  object \n",
      " 18  WORK_ZONE_I              254 non-null    object \n",
      " 19  NUM_UNITS                33003 non-null  int64  \n",
      " 20  MOST_SEVERE_INJURY       33003 non-null  object \n",
      " 21  INJURIES_TOTAL           33003 non-null  float64\n",
      " 22  INJURIES_FATAL           33003 non-null  float64\n",
      " 23  CRASH_HOUR               33003 non-null  int64  \n",
      " 24  CRASH_DAY_OF_WEEK        33003 non-null  int64  \n",
      " 25  CRASH_MONTH              33003 non-null  int64  \n",
      " 26  LATITUDE                 32820 non-null  float64\n",
      " 27  LONGITUDE                32820 non-null  float64\n",
      "dtypes: float64(4), int64(7), object(17)\n",
      "memory usage: 7.3+ MB\n"
     ]
    }
   ],
   "source": [
    "crashes_injuries.info()"
   ]
  },
  {
   "cell_type": "code",
   "execution_count": null,
   "id": "24d780af",
   "metadata": {},
   "outputs": [],
   "source": []
  }
 ],
 "metadata": {
  "kernelspec": {
   "display_name": "Python 3",
   "language": "python",
   "name": "python3"
  },
  "language_info": {
   "codemirror_mode": {
    "name": "ipython",
    "version": 3
   },
   "file_extension": ".py",
   "mimetype": "text/x-python",
   "name": "python",
   "nbconvert_exporter": "python",
   "pygments_lexer": "ipython3",
   "version": "3.8.5"
  }
 },
 "nbformat": 4,
 "nbformat_minor": 5
}
